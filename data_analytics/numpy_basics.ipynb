{
 "cells": [
  {
   "cell_type": "code",
   "execution_count": 3,
   "metadata": {},
   "outputs": [],
   "source": [
    "import numpy as np"
   ]
  },
  {
   "cell_type": "markdown",
   "metadata": {},
   "source": [
    "creating a matrix"
   ]
  },
  {
   "cell_type": "code",
   "execution_count": 4,
   "metadata": {},
   "outputs": [
    {
     "name": "stdout",
     "output_type": "stream",
     "text": [
      "[1 2 3 4]\n"
     ]
    }
   ],
   "source": [
    "x = np.array([1,2,3,4])\n",
    "print(x)\n"
   ]
  },
  {
   "cell_type": "code",
   "execution_count": 5,
   "metadata": {},
   "outputs": [
    {
     "name": "stdout",
     "output_type": "stream",
     "text": [
      "[[2 3]\n",
      " [5 6]]\n"
     ]
    }
   ],
   "source": [
    "x2 = np.array([[2,3],[5,6]])\n",
    "print(x2)"
   ]
  },
  {
   "cell_type": "code",
   "execution_count": 6,
   "metadata": {},
   "outputs": [
    {
     "name": "stdout",
     "output_type": "stream",
     "text": [
      "(4,)\n",
      "(2, 2)\n"
     ]
    }
   ],
   "source": [
    "print(x.shape)\n",
    "print(x2.shape)  #tells how many values in row and column"
   ]
  },
  {
   "cell_type": "code",
   "execution_count": 7,
   "metadata": {},
   "outputs": [
    {
     "name": "stdout",
     "output_type": "stream",
     "text": [
      "2\n"
     ]
    }
   ],
   "source": [
    "print(x2.ndim)   #tells dimension"
   ]
  },
  {
   "cell_type": "code",
   "execution_count": 8,
   "metadata": {},
   "outputs": [
    {
     "name": "stdout",
     "output_type": "stream",
     "text": [
      "[0 1 2 3 4 5 6 7 8 9]\n"
     ]
    }
   ],
   "source": [
    "a = np.arange(10)\n",
    "print(a)"
   ]
  },
  {
   "cell_type": "code",
   "execution_count": 9,
   "metadata": {},
   "outputs": [
    {
     "name": "stdout",
     "output_type": "stream",
     "text": [
      "[-5 -3 -1  1  3  5]\n",
      "6\n"
     ]
    }
   ],
   "source": [
    "a = np.arange(-5,6,2)\n",
    "print(a)\n",
    "print(a.size)"
   ]
  },
  {
   "cell_type": "code",
   "execution_count": 10,
   "metadata": {},
   "outputs": [
    {
     "name": "stdout",
     "output_type": "stream",
     "text": [
      "[ 1.          1.18367347  1.36734694  1.55102041  1.73469388  1.91836735\n",
      "  2.10204082  2.28571429  2.46938776  2.65306122  2.83673469  3.02040816\n",
      "  3.20408163  3.3877551   3.57142857  3.75510204  3.93877551  4.12244898\n",
      "  4.30612245  4.48979592  4.67346939  4.85714286  5.04081633  5.2244898\n",
      "  5.40816327  5.59183673  5.7755102   5.95918367  6.14285714  6.32653061\n",
      "  6.51020408  6.69387755  6.87755102  7.06122449  7.24489796  7.42857143\n",
      "  7.6122449   7.79591837  7.97959184  8.16326531  8.34693878  8.53061224\n",
      "  8.71428571  8.89795918  9.08163265  9.26530612  9.44897959  9.63265306\n",
      "  9.81632653 10.        ]\n",
      "50\n"
     ]
    }
   ],
   "source": [
    "b = np.linspace(1,10,50)\n",
    "print(b)\n",
    "print(b.size)"
   ]
  },
  {
   "cell_type": "code",
   "execution_count": 11,
   "metadata": {},
   "outputs": [
    {
     "name": "stdout",
     "output_type": "stream",
     "text": [
      "[[0.08493216 0.5514489  0.58027726]\n",
      " [0.0582527  0.52260475 0.9838158 ]\n",
      " [0.72278512 0.7437122  0.50646673]]\n",
      "(3, 3)\n",
      "9\n"
     ]
    }
   ],
   "source": [
    "c = np.random.random((3,3))\n",
    "print(c)\n",
    "print(c.shape)\n",
    "print(c.size)"
   ]
  },
  {
   "cell_type": "code",
   "execution_count": 12,
   "metadata": {},
   "outputs": [
    {
     "name": "stdout",
     "output_type": "stream",
     "text": [
      "[[0.10212961 0.39803003 0.22116824 0.02873828 0.26319505]\n",
      " [0.64569151 0.72654306 0.47876235 0.05027535 0.75504681]\n",
      " [0.82789483 0.22169315 0.38388704 0.70158062 0.83605441]\n",
      " [0.57534472 0.33564449 0.30830839 0.5124891  0.24023586]\n",
      " [0.78276405 0.07480238 0.12709911 0.19427327 0.87843321]]\n"
     ]
    }
   ],
   "source": [
    "d = np.random.random((5,5))\n",
    "print(d)"
   ]
  },
  {
   "cell_type": "code",
   "execution_count": 13,
   "metadata": {},
   "outputs": [
    {
     "name": "stdout",
     "output_type": "stream",
     "text": [
      "[[[97 93 96]\n",
      "  [95 92 96]\n",
      "  [93 92 99]]\n",
      "\n",
      " [[90 96 96]\n",
      "  [97 94 90]\n",
      "  [98 95 91]]\n",
      "\n",
      " [[94 96 92]\n",
      "  [91 95 96]\n",
      "  [91 95 92]]]\n"
     ]
    }
   ],
   "source": [
    "e = np.random.randint(90,100,(3,3,3))\n",
    "print(e)"
   ]
  },
  {
   "cell_type": "code",
   "execution_count": 14,
   "metadata": {},
   "outputs": [
    {
     "name": "stdout",
     "output_type": "stream",
     "text": [
      "[  1.           2.11235955   3.2247191    4.33707865   5.4494382\n",
      "   6.56179775   7.6741573    8.78651685   9.8988764   11.01123596\n",
      "  12.12359551  13.23595506  14.34831461  15.46067416  16.57303371\n",
      "  17.68539326  18.79775281  19.91011236  21.02247191  22.13483146\n",
      "  23.24719101  24.35955056  25.47191011  26.58426966  27.69662921\n",
      "  28.80898876  29.92134831  31.03370787  32.14606742  33.25842697\n",
      "  34.37078652  35.48314607  36.59550562  37.70786517  38.82022472\n",
      "  39.93258427  41.04494382  42.15730337  43.26966292  44.38202247\n",
      "  45.49438202  46.60674157  47.71910112  48.83146067  49.94382022\n",
      "  51.05617978  52.16853933  53.28089888  54.39325843  55.50561798\n",
      "  56.61797753  57.73033708  58.84269663  59.95505618  61.06741573\n",
      "  62.17977528  63.29213483  64.40449438  65.51685393  66.62921348\n",
      "  67.74157303  68.85393258  69.96629213  71.07865169  72.19101124\n",
      "  73.30337079  74.41573034  75.52808989  76.64044944  77.75280899\n",
      "  78.86516854  79.97752809  81.08988764  82.20224719  83.31460674\n",
      "  84.42696629  85.53932584  86.65168539  87.76404494  88.87640449\n",
      "  89.98876404  91.1011236   92.21348315  93.3258427   94.43820225\n",
      "  95.5505618   96.66292135  97.7752809   98.88764045 100.        ]\n"
     ]
    }
   ],
   "source": [
    "f = np.linspace(1,100,90)\n",
    "print(f)"
   ]
  },
  {
   "cell_type": "code",
   "execution_count": 15,
   "metadata": {},
   "outputs": [
    {
     "name": "stdout",
     "output_type": "stream",
     "text": [
      "[[  1.           2.11235955]\n",
      " [  3.2247191    4.33707865]\n",
      " [  5.4494382    6.56179775]\n",
      " [  7.6741573    8.78651685]\n",
      " [  9.8988764   11.01123596]\n",
      " [ 12.12359551  13.23595506]\n",
      " [ 14.34831461  15.46067416]\n",
      " [ 16.57303371  17.68539326]\n",
      " [ 18.79775281  19.91011236]\n",
      " [ 21.02247191  22.13483146]\n",
      " [ 23.24719101  24.35955056]\n",
      " [ 25.47191011  26.58426966]\n",
      " [ 27.69662921  28.80898876]\n",
      " [ 29.92134831  31.03370787]\n",
      " [ 32.14606742  33.25842697]\n",
      " [ 34.37078652  35.48314607]\n",
      " [ 36.59550562  37.70786517]\n",
      " [ 38.82022472  39.93258427]\n",
      " [ 41.04494382  42.15730337]\n",
      " [ 43.26966292  44.38202247]\n",
      " [ 45.49438202  46.60674157]\n",
      " [ 47.71910112  48.83146067]\n",
      " [ 49.94382022  51.05617978]\n",
      " [ 52.16853933  53.28089888]\n",
      " [ 54.39325843  55.50561798]\n",
      " [ 56.61797753  57.73033708]\n",
      " [ 58.84269663  59.95505618]\n",
      " [ 61.06741573  62.17977528]\n",
      " [ 63.29213483  64.40449438]\n",
      " [ 65.51685393  66.62921348]\n",
      " [ 67.74157303  68.85393258]\n",
      " [ 69.96629213  71.07865169]\n",
      " [ 72.19101124  73.30337079]\n",
      " [ 74.41573034  75.52808989]\n",
      " [ 76.64044944  77.75280899]\n",
      " [ 78.86516854  79.97752809]\n",
      " [ 81.08988764  82.20224719]\n",
      " [ 83.31460674  84.42696629]\n",
      " [ 85.53932584  86.65168539]\n",
      " [ 87.76404494  88.87640449]\n",
      " [ 89.98876404  91.1011236 ]\n",
      " [ 92.21348315  93.3258427 ]\n",
      " [ 94.43820225  95.5505618 ]\n",
      " [ 96.66292135  97.7752809 ]\n",
      " [ 98.88764045 100.        ]]\n"
     ]
    }
   ],
   "source": [
    "f2 = f.reshape(45,2)\n",
    "print(f2)"
   ]
  },
  {
   "cell_type": "code",
   "execution_count": 16,
   "metadata": {},
   "outputs": [
    {
     "name": "stdout",
     "output_type": "stream",
     "text": [
      "(15, 3, 2)\n",
      "[[[  1.           2.11235955]\n",
      "  [  3.2247191    4.33707865]\n",
      "  [  5.4494382    6.56179775]]\n",
      "\n",
      " [[  7.6741573    8.78651685]\n",
      "  [  9.8988764   11.01123596]\n",
      "  [ 12.12359551  13.23595506]]\n",
      "\n",
      " [[ 14.34831461  15.46067416]\n",
      "  [ 16.57303371  17.68539326]\n",
      "  [ 18.79775281  19.91011236]]\n",
      "\n",
      " [[ 21.02247191  22.13483146]\n",
      "  [ 23.24719101  24.35955056]\n",
      "  [ 25.47191011  26.58426966]]\n",
      "\n",
      " [[ 27.69662921  28.80898876]\n",
      "  [ 29.92134831  31.03370787]\n",
      "  [ 32.14606742  33.25842697]]\n",
      "\n",
      " [[ 34.37078652  35.48314607]\n",
      "  [ 36.59550562  37.70786517]\n",
      "  [ 38.82022472  39.93258427]]\n",
      "\n",
      " [[ 41.04494382  42.15730337]\n",
      "  [ 43.26966292  44.38202247]\n",
      "  [ 45.49438202  46.60674157]]\n",
      "\n",
      " [[ 47.71910112  48.83146067]\n",
      "  [ 49.94382022  51.05617978]\n",
      "  [ 52.16853933  53.28089888]]\n",
      "\n",
      " [[ 54.39325843  55.50561798]\n",
      "  [ 56.61797753  57.73033708]\n",
      "  [ 58.84269663  59.95505618]]\n",
      "\n",
      " [[ 61.06741573  62.17977528]\n",
      "  [ 63.29213483  64.40449438]\n",
      "  [ 65.51685393  66.62921348]]\n",
      "\n",
      " [[ 67.74157303  68.85393258]\n",
      "  [ 69.96629213  71.07865169]\n",
      "  [ 72.19101124  73.30337079]]\n",
      "\n",
      " [[ 74.41573034  75.52808989]\n",
      "  [ 76.64044944  77.75280899]\n",
      "  [ 78.86516854  79.97752809]]\n",
      "\n",
      " [[ 81.08988764  82.20224719]\n",
      "  [ 83.31460674  84.42696629]\n",
      "  [ 85.53932584  86.65168539]]\n",
      "\n",
      " [[ 87.76404494  88.87640449]\n",
      "  [ 89.98876404  91.1011236 ]\n",
      "  [ 92.21348315  93.3258427 ]]\n",
      "\n",
      " [[ 94.43820225  95.5505618 ]\n",
      "  [ 96.66292135  97.7752809 ]\n",
      "  [ 98.88764045 100.        ]]]\n"
     ]
    }
   ],
   "source": [
    "f3 = f.reshape(15,3,2)\n",
    "print(f3.shape)\n",
    "print(f3)\n"
   ]
  },
  {
   "cell_type": "code",
   "execution_count": 17,
   "metadata": {},
   "outputs": [
    {
     "name": "stdout",
     "output_type": "stream",
     "text": [
      "[[5 9 9]\n",
      " [4 7 2]\n",
      " [9 5 6]]\n",
      "\n",
      "[[2 1 5]\n",
      " [5 4 7]\n",
      " [5 9 9]]\n"
     ]
    }
   ],
   "source": [
    "x = np.random.randint(1,10,(3,3))\n",
    "y = np.random.randint(1,10,(3,3))\n",
    "print(x)\n",
    "print()\n",
    "print(y)\n"
   ]
  },
  {
   "cell_type": "code",
   "execution_count": 18,
   "metadata": {},
   "outputs": [
    {
     "data": {
      "text/plain": [
       "array([[ 7, 10, 14],\n",
       "       [ 9, 11,  9],\n",
       "       [14, 14, 15]])"
      ]
     },
     "execution_count": 18,
     "metadata": {},
     "output_type": "execute_result"
    }
   ],
   "source": [
    "x + y #element wise addition"
   ]
  },
  {
   "cell_type": "code",
   "execution_count": 19,
   "metadata": {},
   "outputs": [
    {
     "name": "stdout",
     "output_type": "stream",
     "text": [
      "[[ 3  8  4]\n",
      " [-1  3 -5]\n",
      " [ 4 -4 -3]]\n",
      "[[10  9 45]\n",
      " [20 28 14]\n",
      " [45 45 54]]\n",
      "[[2.5        9.         1.8       ]\n",
      " [0.8        1.75       0.28571429]\n",
      " [1.8        0.55555556 0.66666667]]\n",
      "[[2 9 1]\n",
      " [0 1 0]\n",
      " [1 0 0]]\n",
      "[[1 0 4]\n",
      " [4 3 2]\n",
      " [4 5 6]]\n",
      "[[      25        9    59049]\n",
      " [    1024     2401      128]\n",
      " [   59049  1953125 10077696]]\n"
     ]
    }
   ],
   "source": [
    "print(x-y)\n",
    "print(x*y)\n",
    "print(x/y)     #division\n",
    "print(x//y)    #floor division\n",
    "print(x%y)     #modulus\n",
    "print(x**y)    #exponentiation"
   ]
  },
  {
   "cell_type": "code",
   "execution_count": 20,
   "metadata": {},
   "outputs": [
    {
     "name": "stdout",
     "output_type": "stream",
     "text": [
      "[[100 122 169]\n",
      " [ 53  50  87]\n",
      " [ 73  83 134]]\n",
      "[[100 122 169]\n",
      " [ 53  50  87]\n",
      " [ 73  83 134]]\n",
      "[[ 36  -7 -13]\n",
      " [ 41 -18 -19]\n",
      " [ -9 -51  56]]\n",
      "[[100 122 169]\n",
      " [ 53  50  87]\n",
      " [ 73  83 134]]\n"
     ]
    }
   ],
   "source": [
    "\n",
    "print(np.dot(x,y))     #dot product\n",
    "print(x.dot(y))        #same dot product\n",
    "print(np.cross(x,y))    #cross product \n",
    "print(np.matmul(x,y))     # matrix multiplication"
   ]
  },
  {
   "cell_type": "code",
   "execution_count": 21,
   "metadata": {},
   "outputs": [
    {
     "name": "stdout",
     "output_type": "stream",
     "text": [
      "56\n",
      "[18 21 17]\n",
      "[23 13 20]\n",
      "6.222222222222222\n",
      "2.3465235646603193\n",
      "6.0\n",
      "[5. 7. 6.]\n"
     ]
    }
   ],
   "source": [
    "print(x.sum())     #sum of all elements\n",
    "print(x.sum(axis=0))    #sum of each column\n",
    "print(x.sum(axis=1))    #sum of each row\n",
    "print(x.mean())     #mean of all elements\n",
    "print(x.std())      #standard deviation of all elements\n",
    "print(np.median(x))   #median of all elements\n",
    "print(np.median(x,axis=0))   #median of each column"
   ]
  },
  {
   "cell_type": "code",
   "execution_count": 22,
   "metadata": {},
   "outputs": [],
   "source": [
    "import matplotlib.pyplot as plt"
   ]
  },
  {
   "cell_type": "code",
   "execution_count": 23,
   "metadata": {},
   "outputs": [
    {
     "data": {
      "text/plain": [
       "[<matplotlib.lines.Line2D at 0x114a084c0>]"
      ]
     },
     "execution_count": 23,
     "metadata": {},
     "output_type": "execute_result"
    },
    {
     "data": {
      "image/png": "[encoded data removed]",
      "text/plain": [
       "<Figure size 640x480 with 1 Axes>"
      ]
     },
     "metadata": {},
     "output_type": "display_data"
    }
   ],
   "source": [
    "t = np.linspace(0,4*np.pi,100)\n",
    "y = np.sin(t)\n",
    "plt.plot(t,y)\n"
   ]
  },
  {
   "cell_type": "code",
   "execution_count": 24,
   "metadata": {},
   "outputs": [
    {
     "data": {
      "text/plain": [
       "0.1411200080598672"
      ]
     },
     "execution_count": 24,
     "metadata": {},
     "output_type": "execute_result"
    }
   ],
   "source": [
    "np.sin(3)"
   ]
  },
  {
   "cell_type": "code",
   "execution_count": 25,
   "metadata": {},
   "outputs": [
    {
     "data": {
      "image/png": "[encoded data removed]",
      "text/plain": [
       "<Figure size 640x480 with 1 Axes>"
      ]
     },
     "metadata": {},
     "output_type": "display_data"
    }
   ],
   "source": [
    "t = np.linspace(0,4*np.pi,100)\n",
    "y = np.sin(t)\n",
    "x = np.cos(t)\n",
    "plt.plot(t,y)\n",
    "plt.plot(t,x,'go')\n",
    "plt.show()"
   ]
  },
  {
   "cell_type": "code",
   "execution_count": 26,
   "metadata": {},
   "outputs": [
    {
     "data": {
      "text/plain": [
       "<BarContainer object of 8 artists>"
      ]
     },
     "execution_count": 26,
     "metadata": {},
     "output_type": "execute_result"
    },
    {
     "data": {
      "image/png": "[encoded data removed]",
      "text/plain": [
       "<Figure size 640x480 with 1 Axes>"
      ]
     },
     "metadata": {},
     "output_type": "display_data"
    }
   ],
   "source": [
    "rainfall = [20,30,40,50,60,70,90,120]\n",
    "months= ['jan','feb','mar','apr','may','jun','july','aug']\n",
    "plt.bar(months,rainfall)"
   ]
  },
  {
   "cell_type": "markdown",
   "metadata": {},
   "source": [
    "## boolean filter"
   ]
  },
  {
   "cell_type": "code",
   "execution_count": 28,
   "metadata": {},
   "outputs": [
    {
     "data": {
      "text/plain": [
       "array([[327, 711, 650, 353, 277],\n",
       "       [432,  22,  48, 446, 573],\n",
       "       [140, 180, 484, 790, 834],\n",
       "       [213,  28, 916, 338, 328],\n",
       "       [275, 437, 768, 560, 893]])"
      ]
     },
     "execution_count": 28,
     "metadata": {},
     "output_type": "execute_result"
    }
   ],
   "source": [
    "data= np.random.randint(1,1000,(5,5))\n",
    "data"
   ]
  },
  {
   "cell_type": "code",
   "execution_count": 31,
   "metadata": {},
   "outputs": [
    {
     "name": "stdout",
     "output_type": "stream",
     "text": [
      "327 353 277 432 22 48 446 140 180 484 213 28 338 328 275 437 "
     ]
    }
   ],
   "source": [
    "# noob way of getting the data\n",
    "for i in data:\n",
    "    for j in i:\n",
    "         if  j<500:\n",
    "            print(j,end=' ')\n"
   ]
  },
  {
   "cell_type": "code",
   "execution_count": 34,
   "metadata": {},
   "outputs": [
    {
     "data": {
      "text/plain": [
       "array([[ True, False, False,  True,  True],\n",
       "       [ True,  True,  True,  True, False],\n",
       "       [ True,  True,  True, False, False],\n",
       "       [ True,  True, False,  True,  True],\n",
       "       [ True,  True, False, False, False]])"
      ]
     },
     "execution_count": 34,
     "metadata": {},
     "output_type": "execute_result"
    }
   ],
   "source": [
    "#pythonic way\n",
    "data<500  #boolean array"
   ]
  },
  {
   "cell_type": "code",
   "execution_count": 35,
   "metadata": {},
   "outputs": [
    {
     "data": {
      "text/plain": [
       "array([327, 353, 277, 432,  22,  48, 446, 140, 180, 484, 213,  28, 338,\n",
       "       328, 275, 437])"
      ]
     },
     "execution_count": 35,
     "metadata": {},
     "output_type": "execute_result"
    }
   ],
   "source": [
    "data[data<500]"
   ]
  },
  {
   "cell_type": "code",
   "execution_count": 38,
   "metadata": {},
   "outputs": [
    {
     "data": {
      "text/plain": [
       "array([711, 650,  22,  48, 573, 790, 834,  28, 916, 768, 560, 893])"
      ]
     },
     "execution_count": 38,
     "metadata": {},
     "output_type": "execute_result"
    }
   ],
   "source": [
    "data[(data<100) | (data>500)]     # | is bitwise or"
   ]
  },
  {
   "cell_type": "markdown",
   "metadata": {},
   "source": [
    "## slicing\n",
    "for 1 dimension:\n",
    "var[start:stop:step];\n",
    "for 2 dim:\n",
    "var[rstart:rstop:rstep]"
   ]
  },
  {
   "cell_type": "code",
   "execution_count": 39,
   "metadata": {},
   "outputs": [
    {
     "data": {
      "text/plain": [
       "array([[327, 711, 650, 353, 277],\n",
       "       [432,  22,  48, 446, 573],\n",
       "       [140, 180, 484, 790, 834],\n",
       "       [213,  28, 916, 338, 328],\n",
       "       [275, 437, 768, 560, 893]])"
      ]
     },
     "execution_count": 39,
     "metadata": {},
     "output_type": "execute_result"
    }
   ],
   "source": [
    "data"
   ]
  },
  {
   "cell_type": "code",
   "execution_count": 42,
   "metadata": {},
   "outputs": [
    {
     "data": {
      "text/plain": [
       "array([[1617,  382, 1443, 1369,  366, 1923,  377, 1486],\n",
       "       [ 454,  330, 1102,   87,  164, 1545, 1322, 1446],\n",
       "       [1658, 1161,  752, 1410, 1089,    5, 1164, 1181],\n",
       "       [1265,  597,  308, 1192,  724, 1656, 1274,  775],\n",
       "       [1441,  746,  838, 1133, 1838, 1057,   53,  754],\n",
       "       [1675, 1248, 1545,   17,  355,  980, 1841, 1687],\n",
       "       [1886,  363,  185, 1312,  933,  777,  818, 1872],\n",
       "       [1638,  516, 1117, 1483,  608, 1693,  842,   57]])"
      ]
     },
     "execution_count": 42,
     "metadata": {},
     "output_type": "execute_result"
    }
   ],
   "source": [
    "data1= np.random.randint(1,2000,(8,8))\n",
    "data1"
   ]
  },
  {
   "cell_type": "code",
   "execution_count": 47,
   "metadata": {},
   "outputs": [
    {
     "data": {
      "text/plain": [
       "array([[1617,  382, 1443, 1369,  366],\n",
       "       [ 454,  330, 1102,   87,  164],\n",
       "       [1658, 1161,  752, 1410, 1089],\n",
       "       [1265,  597,  308, 1192,  724],\n",
       "       [1441,  746,  838, 1133, 1838]])"
      ]
     },
     "execution_count": 47,
     "metadata": {},
     "output_type": "execute_result"
    }
   ],
   "source": [
    "data1[:5,:5]   #for 5 rows and 5 cols\n"
   ]
  },
  {
   "cell_type": "code",
   "execution_count": 48,
   "metadata": {},
   "outputs": [
    {
     "data": {
      "text/plain": [
       "array([[1369, 1923, 1486],\n",
       "       [  87, 1545, 1446],\n",
       "       [1410,    5, 1181],\n",
       "       [1192, 1656,  775],\n",
       "       [1133, 1057,  754],\n",
       "       [  17,  980, 1687],\n",
       "       [1312,  777, 1872],\n",
       "       [1483, 1693,   57]])"
      ]
     },
     "execution_count": 48,
     "metadata": {},
     "output_type": "execute_result"
    }
   ],
   "source": [
    "data1[:,[3,5,7]] # for all rows,col 3,6,7"
   ]
  },
  {
   "cell_type": "code",
   "execution_count": 50,
   "metadata": {},
   "outputs": [
    {
     "data": {
      "text/plain": [
       "array([[ 752, 1410, 1089,    5],\n",
       "       [ 308, 1192,  724, 1656],\n",
       "       [ 838, 1133, 1838, 1057],\n",
       "       [1545,   17,  355,  980]])"
      ]
     },
     "execution_count": 50,
     "metadata": {},
     "output_type": "execute_result"
    }
   ],
   "source": [
    "data1[2:-2,2:-2]"
   ]
  },
  {
   "cell_type": "code",
   "execution_count": 52,
   "metadata": {},
   "outputs": [
    {
     "data": {
      "text/plain": [
       "array([[1617,  382, 1443, 1369,  366, 1923,  377],\n",
       "       [ 454,  330, 1102,   87,  164, 1545, 1322],\n",
       "       [1658, 1161,  752, 1410, 1089,    5, 1164],\n",
       "       [1265,  597,  308, 1192,  724, 1656, 1274],\n",
       "       [1441,  746,  838, 1133, 1838, 1057,   53],\n",
       "       [1675, 1248, 1545,   17,  355,  980, 1841],\n",
       "       [1886,  363,  185, 1312,  933,  777,  818],\n",
       "       [1638,  516, 1117, 1483,  608, 1693,  842]])"
      ]
     },
     "execution_count": 52,
     "metadata": {},
     "output_type": "execute_result"
    }
   ],
   "source": [
    "data1[:,:-1]"
   ]
  },
  {
   "cell_type": "code",
   "execution_count": null,
   "metadata": {},
   "outputs": [],
   "source": []
  }
 ],
 "metadata": {
  "kernelspec": {
   "display_name": "Python 3.9.12 ('base')",
   "language": "python",
   "name": "python3"
  },
  "language_info": {
   "codemirror_mode": {
    "name": "ipython",
    "version": 3
   },
   "file_extension": ".py",
   "mimetype": "text/x-python",
   "name": "python",
   "nbconvert_exporter": "python",
   "pygments_lexer": "ipython3",
   "version": "3.9.12"
  },
  "orig_nbformat": 4,
  "vscode": {
   "interpreter": {
    "hash": "d1317b728dae0e2f9bd36f8a4a9604a77c5e9ea5f7780265b3fc8028a0af42e7"
   }
  }
 },
 "nbformat": 4,
 "nbformat_minor": 2
}
