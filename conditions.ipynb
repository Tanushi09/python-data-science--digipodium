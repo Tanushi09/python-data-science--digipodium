{
 "cells": [
  {
   "cell_type": "code",
   "execution_count": 1,
   "metadata": {},
   "outputs": [
    {
     "name": "stdout",
     "output_type": "stream",
     "text": [
      "100 is greater than 10\n"
     ]
    }
   ],
   "source": [
    "if 100>10:\n",
    "    print(\"100 is greater than 10\")\n"
   ]
  },
  {
   "cell_type": "code",
   "execution_count": 2,
   "metadata": {},
   "outputs": [
    {
     "name": "stdout",
     "output_type": "stream",
     "text": [
      "this is great\n",
      "f'{a} is greater than {b}'\n"
     ]
    }
   ],
   "source": [
    "a=10\n",
    "b=20\n",
    "if a<b:\n",
    "    print(\"this is great\")\n",
    "    print(\"f'{a} is greater than {b}'\")"
   ]
  },
  {
   "cell_type": "code",
   "execution_count": 4,
   "metadata": {},
   "outputs": [],
   "source": [
    "if 5>10:\n",
    "    print(\"5 is greater than 10\")"
   ]
  },
  {
   "cell_type": "code",
   "execution_count": 8,
   "metadata": {},
   "outputs": [
    {
     "name": "stdout",
     "output_type": "stream",
     "text": [
      "this is a number\n"
     ]
    }
   ],
   "source": [
    "data= input(\"enter a data:\")\n",
    "if data.isalpha():\n",
    "    print(\"this is a string\")\n",
    "if data.isnumeric():\n",
    "    print(\"this is a number\")\n",
    "if data.isspace():\n",
    "    print(\"this is a space\")"
   ]
  },
  {
   "cell_type": "code",
   "execution_count": 11,
   "metadata": {},
   "outputs": [
    {
     "name": "stdout",
     "output_type": "stream",
     "text": [
      "it is hot\n"
     ]
    }
   ],
   "source": [
    "temp= 1030\n",
    "if temp > 25:\n",
    "    print(\"it is hot\")\n",
    "else:\n",
    "    print(\"it's cool\")"
   ]
  },
  {
   "cell_type": "code",
   "execution_count": 14,
   "metadata": {},
   "outputs": [
    {
     "name": "stdout",
     "output_type": "stream",
     "text": [
      "orange is a good source of vitamin c\n"
     ]
    }
   ],
   "source": [
    "fruit = input(\"what fruit do u like: \")\n",
    "if fruit == 'apple' :\n",
    "    print('an apple a day keeps the doctor away')\n",
    "elif fruit == 'mango' :\n",
    "    print('mango is the king of fruits')\n",
    "elif fruit =='banana' :\n",
    "    print('banana is a good source of potassium')\n",
    "elif fruit == 'orange':\n",
    "    print('orange is a good source of vitamin c')\n",
    "else:\n",
    "    print('not found in database')\n"
   ]
  },
  {
   "cell_type": "code",
   "execution_count": 18,
   "metadata": {},
   "outputs": [
    {
     "name": "stdout",
     "output_type": "stream",
     "text": [
      "wrong username\n"
     ]
    }
   ],
   "source": [
    "username = input(\"enter your username: \")\n",
    "password = input(\"enter you password: \")\n",
    "if username == 'sam':\n",
    "    if password == '123':\n",
    "        print(\"welcome sam\")\n",
    "    else:\n",
    "        print(\"wrong password\")\n",
    "else:\n",
    "    print('wrong username')"
   ]
  },
  {
   "cell_type": "code",
   "execution_count": 20,
   "metadata": {},
   "outputs": [
    {
     "name": "stdout",
     "output_type": "stream",
     "text": [
      "wrong username or password\n"
     ]
    }
   ],
   "source": [
    "if username == 'sam' and password == '123':\n",
    "    print(\"weelcome sam\")\n",
    "else:\n",
    "    print(\"wrong username or password\")"
   ]
  },
  {
   "cell_type": "code",
   "execution_count": 1,
   "metadata": {},
   "outputs": [
    {
     "name": "stdout",
     "output_type": "stream",
     "text": [
      "the total salary is 60000.0\n"
     ]
    }
   ],
   "source": [
    "salary = float(input(\"enter the basic salary\"))\n",
    "if  salary<10000:\n",
    "    hra= (0.1*salary)\n",
    "    da= (0.9*salary)\n",
    "elif salary>10000:\n",
    "    hra= (0.2*salary)\n",
    "    da=(0.8*salary)\n",
    "elif salary>20000:\n",
    "    hra=(0.25*salary)\n",
    "    da=(0.75*salary)\n",
    "\n",
    "b= (salary+hra+da)\n",
    "print(\"the total salary is\",b)\n",
    "\n",
    "\n",
    " "
   ]
  },
  {
   "cell_type": "markdown",
   "metadata": {},
   "source": [
    "match cases"
   ]
  },
  {
   "cell_type": "code",
   "execution_count": 2,
   "metadata": {},
   "outputs": [
    {
     "name": "stdout",
     "output_type": "stream",
     "text": [
      "vanilla=100.00\n"
     ]
    }
   ],
   "source": [
    "\n",
    "icecream = input(\"enter the icecream name\")\n",
    "match(icecream):\n",
    "    case \"chocolate\":\n",
    "        print(\"chocolate=200.00\")\n",
    "    case\"vanilla\":\n",
    "        print(\"vanilla=100.00\")\n",
    "    case\"strawberry\":\n",
    "        print(\"strawberry=150.00\")\n",
    "    case _:\n",
    "        print(\"not available\")\n",
    "\n",
    "\n",
    "   "
   ]
  }
 ],
 "metadata": {
  "kernelspec": {
   "display_name": "Python 3.10.6 ('py310')",
   "language": "python",
   "name": "python3"
  },
  "language_info": {
   "codemirror_mode": {
    "name": "ipython",
    "version": 3
   },
   "file_extension": ".py",
   "mimetype": "text/x-python",
   "name": "python",
   "nbconvert_exporter": "python",
   "pygments_lexer": "ipython3",
   "version": "3.10.6"
  },
  "orig_nbformat": 4,
  "vscode": {
   "interpreter": {
    "hash": "1cc3685dc59f273963d5c9657d0fe05ded91001b7382eb6577bd0a2a1a53335c"
   }
  }
 },
 "nbformat": 4,
 "nbformat_minor": 2
}
