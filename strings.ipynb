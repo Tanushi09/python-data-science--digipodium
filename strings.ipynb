{
 "cells": [
  {
   "cell_type": "code",
   "execution_count": 1,
   "metadata": {},
   "outputs": [
    {
     "name": "stdout",
     "output_type": "stream",
     "text": [
      "13\n"
     ]
    }
   ],
   "source": [
    "name = 'tanushi yadav'\n",
    "print(len(name))"
   ]
  },
  {
   "cell_type": "code",
   "execution_count": 2,
   "metadata": {},
   "outputs": [
    {
     "name": "stdout",
     "output_type": "stream",
     "text": [
      "0 t\n",
      "1 a\n",
      "2 n\n",
      "3 u\n",
      "4 s\n",
      "5 h\n",
      "6 i\n",
      "7  \n",
      "8 y\n",
      "9 a\n",
      "10 d\n",
      "11 a\n",
      "12 v\n"
     ]
    }
   ],
   "source": [
    "for idx,char in enumerate(name):\n",
    "    print(idx,char)"
   ]
  },
  {
   "cell_type": "code",
   "execution_count": 3,
   "metadata": {},
   "outputs": [
    {
     "name": "stdout",
     "output_type": "stream",
     "text": [
      "yadav\n"
     ]
    }
   ],
   "source": [
    "print(name[8:13])"
   ]
  },
  {
   "cell_type": "code",
   "execution_count": 4,
   "metadata": {},
   "outputs": [
    {
     "name": "stdout",
     "output_type": "stream",
     "text": [
      "yada\n"
     ]
    }
   ],
   "source": [
    "print(name[-5:-1])"
   ]
  },
  {
   "cell_type": "code",
   "execution_count": 5,
   "metadata": {},
   "outputs": [
    {
     "name": "stdout",
     "output_type": "stream",
     "text": [
      "tanushi\n"
     ]
    }
   ],
   "source": [
    "print(name[0:7])"
   ]
  },
  {
   "cell_type": "markdown",
   "metadata": {},
   "source": [
    "slicing syntax\n",
    "var[start:stop:step] where step is not necessary"
   ]
  },
  {
   "cell_type": "code",
   "execution_count": 6,
   "metadata": {},
   "outputs": [
    {
     "name": "stdout",
     "output_type": "stream",
     "text": [
      "tnsiydv\n"
     ]
    }
   ],
   "source": [
    "#all the even characters of string\n",
    "print(name[::2])"
   ]
  },
  {
   "cell_type": "code",
   "execution_count": 7,
   "metadata": {},
   "outputs": [
    {
     "name": "stdout",
     "output_type": "stream",
     "text": [
      "auh aa\n"
     ]
    }
   ],
   "source": [
    "#all the odd characters of string\n",
    "print(name[1::2])"
   ]
  },
  {
   "cell_type": "code",
   "execution_count": 8,
   "metadata": {},
   "outputs": [
    {
     "name": "stdout",
     "output_type": "stream",
     "text": [
      "vaday ihsunat\n"
     ]
    }
   ],
   "source": [
    "#reverse the string\n",
    "print(name[::-1])"
   ]
  },
  {
   "cell_type": "code",
   "execution_count": 11,
   "metadata": {},
   "outputs": [
    {
     "name": "stdout",
     "output_type": "stream",
     "text": [
      "vdyisnt\n"
     ]
    }
   ],
   "source": [
    "print(name[::-2])"
   ]
  },
  {
   "cell_type": "code",
   "execution_count": 12,
   "metadata": {},
   "outputs": [
    {
     "name": "stdout",
     "output_type": "stream",
     "text": [
      "nushi yad\n"
     ]
    }
   ],
   "source": [
    "print(name[2:11])"
   ]
  },
  {
   "cell_type": "code",
   "execution_count": 13,
   "metadata": {},
   "outputs": [
    {
     "name": "stdout",
     "output_type": "stream",
     "text": [
      "race\n"
     ]
    }
   ],
   "source": [
    "word = 'racecar'\n",
    "print(word[:-3])"
   ]
  },
  {
   "cell_type": "code",
   "execution_count": 14,
   "metadata": {},
   "outputs": [
    {
     "name": "stdout",
     "output_type": "stream",
     "text": [
      "A\n"
     ]
    }
   ],
   "source": [
    "x= chr(65)\n",
    "print(x)\n"
   ]
  },
  {
   "cell_type": "code",
   "execution_count": 15,
   "metadata": {},
   "outputs": [],
   "source": [
    "x= chr(60)"
   ]
  },
  {
   "cell_type": "code",
   "execution_count": 19,
   "metadata": {},
   "outputs": [
    {
     "name": "stdout",
     "output_type": "stream",
     "text": [
      "牵\n"
     ]
    }
   ],
   "source": [
    "print(chr(29301))"
   ]
  },
  {
   "cell_type": "code",
   "execution_count": 21,
   "metadata": {},
   "outputs": [
    {
     "name": "stdout",
     "output_type": "stream",
     "text": [
      "65\n"
     ]
    }
   ],
   "source": [
    "y=ord('A')\n",
    "print(y)"
   ]
  },
  {
   "cell_type": "code",
   "execution_count": 22,
   "metadata": {},
   "outputs": [
    {
     "name": "stdout",
     "output_type": "stream",
     "text": [
      "97\n"
     ]
    }
   ],
   "source": [
    "y=ord('a')\n",
    "print(y)"
   ]
  },
  {
   "cell_type": "code",
   "execution_count": 23,
   "metadata": {},
   "outputs": [
    {
     "name": "stdout",
     "output_type": "stream",
     "text": [
      "123\n"
     ]
    }
   ],
   "source": [
    "y = ord('{')\n",
    "print(y)"
   ]
  },
  {
   "cell_type": "markdown",
   "metadata": {},
   "source": [
    "concatenation"
   ]
  },
  {
   "cell_type": "code",
   "execution_count": 25,
   "metadata": {},
   "outputs": [
    {
     "name": "stdout",
     "output_type": "stream",
     "text": [
      "thisisamazing\n"
     ]
    }
   ],
   "source": [
    "\n",
    "\n",
    "\n",
    "w1='this'\n",
    "w2='is'\n",
    "w3='amazing'\n",
    "msg=w1 + w2 + w3\n",
    "print(msg)"
   ]
  },
  {
   "cell_type": "code",
   "execution_count": 26,
   "metadata": {},
   "outputs": [
    {
     "name": "stdout",
     "output_type": "stream",
     "text": [
      "applejuice\n"
     ]
    }
   ],
   "source": [
    "a='apple'\n",
    "b='juice'\n",
    "ab=a+b\n",
    "print(ab)"
   ]
  },
  {
   "cell_type": "code",
   "execution_count": 29,
   "metadata": {},
   "outputs": [
    {
     "name": "stdout",
     "output_type": "stream",
     "text": [
      "this is amazing\n"
     ]
    }
   ],
   "source": [
    "#adding space b/w string\n",
    "msg= w1+' '+w2+' '+w3\n",
    "print(msg)"
   ]
  },
  {
   "cell_type": "markdown",
   "metadata": {},
   "source": [
    "multiplication"
   ]
  },
  {
   "cell_type": "code",
   "execution_count": 30,
   "metadata": {},
   "outputs": [
    {
     "name": "stdout",
     "output_type": "stream",
     "text": [
      "hihihi\n"
     ]
    }
   ],
   "source": [
    "word=\"hi\"\n",
    "print(word * 3)"
   ]
  },
  {
   "cell_type": "code",
   "execution_count": 32,
   "metadata": {},
   "outputs": [
    {
     "name": "stdout",
     "output_type": "stream",
     "text": [
      "----------------------------------------------------------------------------------------------------------------------------------------------------------------------------------------------------------------------------------------------------------------------------------------------------------------------------------------------------------------------------------------------------------------------------------------------------------------------------------------------------------------------------------------------------------------------------------------------------------------------------------------------------------------------------------------------------------------------------------------------------------------------------------------------------------------------------------------------------------------------------------------------------------------------------------------------------------------------------------------------------------------------------------------\n"
     ]
    }
   ],
   "source": [
    "print(\"-\"*1000)"
   ]
  },
  {
   "cell_type": "code",
   "execution_count": 34,
   "metadata": {},
   "outputs": [
    {
     "name": "stdout",
     "output_type": "stream",
     "text": [
      "----------------------------------------\n",
      "  journey before destination  \n",
      "-X-X-X-X-X-X-X-X-X-X\n"
     ]
    }
   ],
   "source": [
    "print(\"----\"*10)\n",
    "print(\"journey before destination\".center(30))\n",
    "print('-X'*10)"
   ]
  },
  {
   "cell_type": "markdown",
   "metadata": {},
   "source": [
    "pattern printing"
   ]
  },
  {
   "cell_type": "code",
   "execution_count": 35,
   "metadata": {},
   "outputs": [
    {
     "name": "stdout",
     "output_type": "stream",
     "text": [
      "*\n",
      "**\n",
      "***\n",
      "****\n",
      "*****\n"
     ]
    }
   ],
   "source": [
    "for i in range(1,6):\n",
    "    print(i* '*')"
   ]
  },
  {
   "cell_type": "code",
   "execution_count": 37,
   "metadata": {},
   "outputs": [
    {
     "name": "stdout",
     "output_type": "stream",
     "text": [
      "                      *                      \n",
      "                      *                                            *                                            *                      \n",
      "                      *                                            *                                            *                                            *                                            *                      \n",
      "                      *                                            *                                            *                                            *                                            *                                            *                                            *                      \n",
      "                      *                                            *                                            *                                            *                                            *                                            *                                            *                                            *                                            *                      \n",
      "                      *                                            *                                            *                                            *                                            *                                            *                                            *                                            *                                            *                                            *                                            *                      \n",
      "                      *                                            *                                            *                                            *                                            *                                            *                                            *                                            *                                            *                                            *                                            *                                            *                                            *                      \n"
     ]
    }
   ],
   "source": [
    "for i in range(1,15,2):\n",
    "    print((i*' * '.center(45)))"
   ]
  },
  {
   "cell_type": "code",
   "execution_count": 47,
   "metadata": {},
   "outputs": [
    {
     "name": "stdout",
     "output_type": "stream",
     "text": [
      "_______________________________________________ tanu________________________________________________\n",
      "__________________________________________ tanu tanu tanu___________________________________________\n",
      "_____________________________________ tanu tanu tanu tanu tanu______________________________________\n",
      "________________________________ tanu tanu tanu tanu tanu tanu tanu_________________________________\n",
      "___________________________ tanu tanu tanu tanu tanu tanu tanu tanu tanu____________________________\n",
      "______________________ tanu tanu tanu tanu tanu tanu tanu tanu tanu tanu tanu_______________________\n",
      "_________________ tanu tanu tanu tanu tanu tanu tanu tanu tanu tanu tanu tanu tanu__________________\n"
     ]
    }
   ],
   "source": [
    "for i in range(1,15,2):\n",
    "    print((i * ' tanu').center(100, '_'))"
   ]
  },
  {
   "cell_type": "code",
   "execution_count": 4,
   "metadata": {},
   "outputs": [
    {
     "name": "stdout",
     "output_type": "stream",
     "text": [
      "                                  *                                   \n",
      "                                 000                                  \n",
      "                                *****                                 \n",
      "                               0000000                                \n",
      "                              *********                               \n",
      "                             00000000000                              \n",
      "                            *************                             \n"
     ]
    }
   ],
   "source": [
    "for i in range(1,15,2):\n",
    "    if (i==1 or i==5 or i==9 or i==13):\n",
    "       print(('*'*i).center(70,' '))\n",
    "    else:\n",
    "       print(('0'*i).center(70,' '))"
   ]
  }
 ],
 "metadata": {
  "kernelspec": {
   "display_name": "Python 3.9.12 ('base')",
   "language": "python",
   "name": "python3"
  },
  "language_info": {
   "codemirror_mode": {
    "name": "ipython",
    "version": 3
   },
   "file_extension": ".py",
   "mimetype": "text/x-python",
   "name": "python",
   "nbconvert_exporter": "python",
   "pygments_lexer": "ipython3",
   "version": "3.9.12"
  },
  "orig_nbformat": 4,
  "vscode": {
   "interpreter": {
    "hash": "d1317b728dae0e2f9bd36f8a4a9604a77c5e9ea5f7780265b3fc8028a0af42e7"
   }
  }
 },
 "nbformat": 4,
 "nbformat_minor": 2
}
