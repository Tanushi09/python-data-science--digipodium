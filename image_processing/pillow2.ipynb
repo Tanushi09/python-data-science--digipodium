{
 "cells": [
  {
   "cell_type": "code",
   "execution_count": 1,
   "metadata": {},
   "outputs": [],
   "source": [
    "from PIL import Image,ImageDraw,ImageFont,ImageFilter,ImageEnhance"
   ]
  },
  {
   "cell_type": "code",
   "execution_count": 2,
   "metadata": {},
   "outputs": [],
   "source": [
    "im1 = Image.open('image.jpeg')\n",
    "im2 = Image.open('image2.jpeg')\n",
    "im3 = Image.open('image3.png')\n"
   ]
  },
  {
   "cell_type": "code",
   "execution_count": 17,
   "metadata": {},
   "outputs": [
    {
     "data": {
      "image/png": "[encoded data removed]",
      "text/plain": [
       "<PIL.Image.Image image mode=RGB size=800x600>"
      ]
     },
     "execution_count": 17,
     "metadata": {},
     "output_type": "execute_result"
    }
   ],
   "source": [
    "# create a blank 800x600 purple image\n",
    "im5 = Image.new('RGB',(800,600),(155,185,255))\n",
    "im5"
   ]
  },
  {
   "cell_type": "code",
   "execution_count": 19,
   "metadata": {},
   "outputs": [],
   "source": [
    "im55 = im5.copy()\n",
    "fnt = ImageFont.truetype('font.ttf',40)\n",
    "d = ImageDraw.Draw(im55)\n",
    "d.text((10,10),\"Hello\", font = fnt, fill=(100,100,100))\n",
    "d.text((10,20+40),\"You Can Go Now\", font = fnt, fill=(100,100,100))\n",
    "im55.show()"
   ]
  },
  {
   "cell_type": "code",
   "execution_count": 29,
   "metadata": {},
   "outputs": [],
   "source": [
    "d.text((50,50+60),\"Happy New Year\",font = fnt, fill = (100,100,100))\n",
    "im55.show()"
   ]
  },
  {
   "cell_type": "code",
   "execution_count": 32,
   "metadata": {},
   "outputs": [],
   "source": [
    "im22 = im2.copy()\n",
    "d = ImageDraw.Draw(im22)\n",
    "# draw a outer circle\n",
    "d.ellipse((100,100,200,200),fill= (155,185,255))\n",
    "#draw a inner circle\n",
    "d.ellipse((120,120,180,180),fill = (255,255,255))\n",
    "im22.show()"
   ]
  },
  {
   "cell_type": "code",
   "execution_count": 35,
   "metadata": {},
   "outputs": [],
   "source": [
    "im11 = im1.copy()\n",
    "d = ImageDraw.Draw(im11)\n",
    "#draw a rectangle on the top and the bottom of the image with 100px height and black\n",
    "d.rectangle((0,0,im11.width,100),fill=(0,0,0))\n",
    "d.rectangle((0,im11.height - 100,im11.width,im11.height),fill=(0,0,0))\n",
    "#add a text in the top rectangle in the middle with white\n",
    "fnt = ImageFont.truetype('font.ttf',40)\n",
    "d.text((im11.width/2-100,30),\"hello\",font = fnt,fill = (255,255,255),align='center')\n",
    "d.text((im11.width/2-100,im11.height-70),\"world\",font = fnt,fill = (255,255,255),align='center')\n",
    "im11.show()"
   ]
  },
  {
   "cell_type": "code",
   "execution_count": null,
   "metadata": {},
   "outputs": [],
   "source": []
  }
 ],
 "metadata": {
  "kernelspec": {
   "display_name": "Python 3.9.12 ('base')",
   "language": "python",
   "name": "python3"
  },
  "language_info": {
   "codemirror_mode": {
    "name": "ipython",
    "version": 3
   },
   "file_extension": ".py",
   "mimetype": "text/x-python",
   "name": "python",
   "nbconvert_exporter": "python",
   "pygments_lexer": "ipython3",
   "version": "3.9.12"
  },
  "orig_nbformat": 4,
  "vscode": {
   "interpreter": {
    "hash": "d1317b728dae0e2f9bd36f8a4a9604a77c5e9ea5f7780265b3fc8028a0af42e7"
   }
  }
 },
 "nbformat": 4,
 "nbformat_minor": 2
}
